{
 "cells": [
  {
   "cell_type": "markdown",
   "metadata": {},
   "source": [
    "<center>\n",
    "    <img src=\"https://cf-courses-data.s3.us.cloud-object-storage.appdomain.cloud/IBMDeveloperSkillsNetwork-PY0101EN-SkillsNetwork/IDSNlogo.png\" width=\"300\" alt=\"cognitiveclass.ai logo\"  />\n",
    "</center>\n",
    "\n",
    "# Application Programming Interface\n",
    "\n",
    "Estimated time needed: **15** minutes\n",
    "\n",
    "## Objectives\n",
    "\n",
    "After completing this lab you will be able to:\n",
    "\n",
    "*   Create and Use APIs in Python\n"
   ]
  },
  {
   "cell_type": "markdown",
   "metadata": {},
   "source": [
    "### Introduction\n",
    "\n",
    "An API lets two pieces of software talk to each other. Just like a function,  you don’t have to know how the API works only its inputs and outputs.  An essential type of API is a REST API that allows you to access resources via the internet. In this lab, we will review the Pandas Library  in the context of an API, we will also review a basic REST API\n"
   ]
  },
  {
   "cell_type": "markdown",
   "metadata": {},
   "source": [
    "## Table of Contents\n",
    "\n",
    "<div class=\"alert alert-block alert-info\" style=\"margin-top: 20px\">\n",
    "<li><a href=\"https://#ref0\">Pandas is an API</a></li>\n",
    "<li><a href=\"https://#ref1\">REST APIs Basics  </a></li>\n",
    "<li><a href=\"https://#ref2\">Quiz on Tuples</a></li>\n",
    "\n",
    "</div>\n",
    "\n",
    "<hr>\n"
   ]
  },
  {
   "cell_type": "code",
   "execution_count": 1,
   "metadata": {
    "collapsed": false,
    "jupyter": {
     "outputs_hidden": false
    }
   },
   "outputs": [
    {
     "name": "stdout",
     "output_type": "stream",
     "text": [
      "Collecting pycoingecko\n",
      "  Downloading https://files.pythonhosted.org/packages/82/6f/9e9d1d72a3082dffc891a67cc78c950d43b62fe8fda4d53091ff56c6b127/pycoingecko-2.2.0-py3-none-any.whl\n",
      "Requirement already satisfied: requests in /home/jupyterlab/conda/envs/python/lib/python3.6/site-packages (from pycoingecko) (2.25.1)\n",
      "Requirement already satisfied: idna<3,>=2.5 in /home/jupyterlab/conda/envs/python/lib/python3.6/site-packages (from requests->pycoingecko) (2.10)\n",
      "Requirement already satisfied: urllib3<1.27,>=1.21.1 in /home/jupyterlab/conda/envs/python/lib/python3.6/site-packages (from requests->pycoingecko) (1.26.6)\n",
      "Requirement already satisfied: certifi>=2017.4.17 in /home/jupyterlab/conda/envs/python/lib/python3.6/site-packages (from requests->pycoingecko) (2021.5.30)\n",
      "Requirement already satisfied: chardet<5,>=3.0.2 in /home/jupyterlab/conda/envs/python/lib/python3.6/site-packages (from requests->pycoingecko) (4.0.0)\n",
      "Installing collected packages: pycoingecko\n",
      "Successfully installed pycoingecko-2.2.0\n",
      "Requirement already satisfied: plotly in /home/jupyterlab/conda/envs/python/lib/python3.6/site-packages (5.1.0)\n",
      "Requirement already satisfied: six in /home/jupyterlab/conda/envs/python/lib/python3.6/site-packages (from plotly) (1.15.0)\n",
      "Requirement already satisfied: tenacity>=6.2.0 in /home/jupyterlab/conda/envs/python/lib/python3.6/site-packages (from plotly) (8.0.1)\n",
      "Collecting mplfinance\n",
      "\u001b[?25l  Downloading https://files.pythonhosted.org/packages/3f/4e/a3de915df8d112579beb3df22e47b3929670b10e9c5dfd4a2b31bf1a34a7/mplfinance-0.12.7a17-py3-none-any.whl (62kB)\n",
      "\u001b[K     |████████████████████████████████| 71kB 23.6MB/s eta 0:00:01\n",
      "\u001b[?25hRequirement already satisfied: pandas in /home/jupyterlab/conda/envs/python/lib/python3.6/site-packages (from mplfinance) (1.1.5)\n",
      "Requirement already satisfied: matplotlib in /home/jupyterlab/conda/envs/python/lib/python3.6/site-packages (from mplfinance) (3.3.4)\n",
      "Requirement already satisfied: python-dateutil>=2.7.3 in /home/jupyterlab/conda/envs/python/lib/python3.6/site-packages (from pandas->mplfinance) (2.8.1)\n",
      "Requirement already satisfied: pytz>=2017.2 in /home/jupyterlab/conda/envs/python/lib/python3.6/site-packages (from pandas->mplfinance) (2021.1)\n",
      "Requirement already satisfied: numpy>=1.15.4 in /home/jupyterlab/conda/envs/python/lib/python3.6/site-packages (from pandas->mplfinance) (1.19.5)\n",
      "Requirement already satisfied: pyparsing!=2.0.4,!=2.1.2,!=2.1.6,>=2.0.3 in /home/jupyterlab/conda/envs/python/lib/python3.6/site-packages (from matplotlib->mplfinance) (2.4.7)\n",
      "Requirement already satisfied: pillow>=6.2.0 in /home/jupyterlab/conda/envs/python/lib/python3.6/site-packages (from matplotlib->mplfinance) (8.3.1)\n",
      "Requirement already satisfied: kiwisolver>=1.0.1 in /home/jupyterlab/conda/envs/python/lib/python3.6/site-packages (from matplotlib->mplfinance) (1.3.1)\n",
      "Requirement already satisfied: cycler>=0.10 in /home/jupyterlab/conda/envs/python/lib/python3.6/site-packages/cycler-0.10.0-py3.6.egg (from matplotlib->mplfinance) (0.10.0)\n",
      "Requirement already satisfied: six>=1.5 in /home/jupyterlab/conda/envs/python/lib/python3.6/site-packages (from python-dateutil>=2.7.3->pandas->mplfinance) (1.15.0)\n",
      "Installing collected packages: mplfinance\n",
      "Successfully installed mplfinance-0.12.7a17\n"
     ]
    }
   ],
   "source": [
    "!pip install pycoingecko\n",
    "!pip install plotly\n",
    "!pip install mplfinance"
   ]
  },
  {
   "cell_type": "markdown",
   "metadata": {},
   "source": [
    "<h2 id=\"PandasAPI\">Pandas is an API </h2>\n"
   ]
  },
  {
   "cell_type": "markdown",
   "metadata": {},
   "source": [
    "Pandas is actually set of software components , much of  which is not even written in Python.\n"
   ]
  },
  {
   "cell_type": "code",
   "execution_count": 2,
   "metadata": {
    "collapsed": false,
    "jupyter": {
     "outputs_hidden": false
    }
   },
   "outputs": [],
   "source": [
    "import pandas as pd\n",
    "import numpy as np\n",
    "import plotly.graph_objects as go\n",
    "from plotly.offline import plot\n",
    "import matplotlib.pyplot as plt\n",
    "import datetime\n",
    "from pycoingecko import CoinGeckoAPI\n",
    "from mplfinance.original_flavor import candlestick2_ohlc"
   ]
  },
  {
   "cell_type": "markdown",
   "metadata": {},
   "source": [
    "You create a dictionary, this is just data.\n"
   ]
  },
  {
   "cell_type": "code",
   "execution_count": 3,
   "metadata": {
    "collapsed": false,
    "jupyter": {
     "outputs_hidden": false
    }
   },
   "outputs": [],
   "source": [
    "dict_={'a':[11,21,31],'b':[12,22,32]}"
   ]
  },
  {
   "cell_type": "code",
   "execution_count": 4,
   "metadata": {},
   "outputs": [
    {
     "data": {
      "text/plain": [
       "dict_keys(['a', 'b'])"
      ]
     },
     "execution_count": 4,
     "metadata": {},
     "output_type": "execute_result"
    }
   ],
   "source": [
    "dict_.keys()"
   ]
  },
  {
   "cell_type": "markdown",
   "metadata": {},
   "source": [
    "When you create a Pandas object with the Dataframe constructor in API lingo, this is an \"instance\". The data in the dictionary is passed along to the pandas API. You then use the dataframe to communicate with the API.\n"
   ]
  },
  {
   "cell_type": "code",
   "execution_count": 5,
   "metadata": {
    "collapsed": false,
    "jupyter": {
     "outputs_hidden": false
    }
   },
   "outputs": [
    {
     "data": {
      "text/html": [
       "<div>\n",
       "<style scoped>\n",
       "    .dataframe tbody tr th:only-of-type {\n",
       "        vertical-align: middle;\n",
       "    }\n",
       "\n",
       "    .dataframe tbody tr th {\n",
       "        vertical-align: top;\n",
       "    }\n",
       "\n",
       "    .dataframe thead th {\n",
       "        text-align: right;\n",
       "    }\n",
       "</style>\n",
       "<table border=\"1\" class=\"dataframe\">\n",
       "  <thead>\n",
       "    <tr style=\"text-align: right;\">\n",
       "      <th></th>\n",
       "      <th>a</th>\n",
       "      <th>b</th>\n",
       "    </tr>\n",
       "  </thead>\n",
       "  <tbody>\n",
       "    <tr>\n",
       "      <th>0</th>\n",
       "      <td>11</td>\n",
       "      <td>12</td>\n",
       "    </tr>\n",
       "    <tr>\n",
       "      <th>1</th>\n",
       "      <td>21</td>\n",
       "      <td>22</td>\n",
       "    </tr>\n",
       "    <tr>\n",
       "      <th>2</th>\n",
       "      <td>31</td>\n",
       "      <td>32</td>\n",
       "    </tr>\n",
       "  </tbody>\n",
       "</table>\n",
       "</div>"
      ],
      "text/plain": [
       "    a   b\n",
       "0  11  12\n",
       "1  21  22\n",
       "2  31  32"
      ]
     },
     "execution_count": 5,
     "metadata": {},
     "output_type": "execute_result"
    }
   ],
   "source": [
    "df=pd.DataFrame(dict_)\n",
    "type(df)\n",
    "df"
   ]
  },
  {
   "cell_type": "markdown",
   "metadata": {},
   "source": [
    "<img src = \"https://cf-courses-data.s3.us.cloud-object-storage.appdomain.cloud/IBMDeveloperSkillsNetwork-PY0101EN-SkillsNetwork/labs/Module%205/images/pandas_api.png\" width = 800, align = \"center\" alt=\"logistic regression block diagram\" />\n"
   ]
  },
  {
   "cell_type": "markdown",
   "metadata": {},
   "source": [
    "When you call the method head the dataframe communicates with the API displaying the first few rows of the dataframe.\n"
   ]
  },
  {
   "cell_type": "code",
   "execution_count": 6,
   "metadata": {
    "collapsed": false,
    "jupyter": {
     "outputs_hidden": false
    }
   },
   "outputs": [
    {
     "data": {
      "text/html": [
       "<div>\n",
       "<style scoped>\n",
       "    .dataframe tbody tr th:only-of-type {\n",
       "        vertical-align: middle;\n",
       "    }\n",
       "\n",
       "    .dataframe tbody tr th {\n",
       "        vertical-align: top;\n",
       "    }\n",
       "\n",
       "    .dataframe thead th {\n",
       "        text-align: right;\n",
       "    }\n",
       "</style>\n",
       "<table border=\"1\" class=\"dataframe\">\n",
       "  <thead>\n",
       "    <tr style=\"text-align: right;\">\n",
       "      <th></th>\n",
       "      <th>a</th>\n",
       "      <th>b</th>\n",
       "    </tr>\n",
       "  </thead>\n",
       "  <tbody>\n",
       "    <tr>\n",
       "      <th>0</th>\n",
       "      <td>11</td>\n",
       "      <td>12</td>\n",
       "    </tr>\n",
       "    <tr>\n",
       "      <th>1</th>\n",
       "      <td>21</td>\n",
       "      <td>22</td>\n",
       "    </tr>\n",
       "    <tr>\n",
       "      <th>2</th>\n",
       "      <td>31</td>\n",
       "      <td>32</td>\n",
       "    </tr>\n",
       "  </tbody>\n",
       "</table>\n",
       "</div>"
      ],
      "text/plain": [
       "    a   b\n",
       "0  11  12\n",
       "1  21  22\n",
       "2  31  32"
      ]
     },
     "execution_count": 6,
     "metadata": {},
     "output_type": "execute_result"
    }
   ],
   "source": [
    "df.head()"
   ]
  },
  {
   "cell_type": "markdown",
   "metadata": {},
   "source": [
    "When you call the method mean,the API will calculate the mean and return the value.\n"
   ]
  },
  {
   "cell_type": "code",
   "execution_count": 7,
   "metadata": {
    "collapsed": false,
    "jupyter": {
     "outputs_hidden": false
    }
   },
   "outputs": [
    {
     "data": {
      "text/plain": [
       "a    21.0\n",
       "b    22.0\n",
       "dtype: float64"
      ]
     },
     "execution_count": 7,
     "metadata": {},
     "output_type": "execute_result"
    }
   ],
   "source": [
    "df.mean()"
   ]
  },
  {
   "cell_type": "markdown",
   "metadata": {},
   "source": [
    "<h2 id=\"ref1\">REST APIs</h2>\n"
   ]
  },
  {
   "cell_type": "markdown",
   "metadata": {},
   "source": [
    "Rest API’s function by sending a request,  the request is communicated via HTTP message. The HTTP message usually contains a JSON file. This contains instructions for what operation we would like the service or resource to perform. In a similar manner, API returns a response, via an HTTP message, this response is usually contained within a JSON.\n",
    "\n",
    "In cryptocurrency a popular method to display the movements of the price of a currency.\n",
    "\n",
    "![Example Candlestick Graph](https://cf-courses-data.s3.us.cloud-object-storage.appdomain.cloud/IBMDeveloperSkillsNetwork-PY0101EN-SkillsNetwork/labs/Module%205/candlestick.png)\n",
    "\n",
    "Here is a description of the candle sticks.\n",
    "\n",
    "<img src=\"https://cf-courses-data.s3.us.cloud-object-storage.appdomain.cloud/IBMDeveloperSkillsNetwork-PY0101EN-SkillsNetwork/labs/Module%205/explanation.png\" alt=\"Candle Stick Definition\" width=\"800\" height=\"600\">\n",
    "\n",
    "In this lab, we will be using the <a href=https://www.coingecko.com/en/api?utm_medium=Exinfluencer&utm_source=Exinfluencer&utm_content=000026UJ&utm_term=10006555&utm_id=NA-SkillsNetwork-Channel-SkillsNetworkCoursesIBMDeveloperSkillsNetworkPY0101ENSkillsNetwork19487395-2021-01-01>CoinGecko API</a> to create one of these candlestick graphs for Bitcoin. We will use the API to get the price data for 30 days with 24 observation per day, 1 per hour. We will find the max, min, open, and close price per day meaning we will have 30 candlesticks and use that to generate the candlestick graph. Although we are using the CoinGecko API we will use a Python client/wrapper for the API called <a href=https://github.com/man-c/pycoingecko?utm_medium=Exinfluencer&utm_source=Exinfluencer&utm_content=000026UJ&utm_term=10006555&utm_id=NA-SkillsNetwork-Channel-SkillsNetworkCoursesIBMDeveloperSkillsNetworkPY0101ENSkillsNetwork19487395-2021-01-01>PyCoinGecko</a>. PyCoinGecko will make performing the requests easy and it will deal with the enpoint targeting.\n"
   ]
  },
  {
   "cell_type": "markdown",
   "metadata": {},
   "source": [
    "Lets start off by getting the data we need. Using the <code>get_coin_market_chart_by_id(id, vs_currency, days)</code>. <code>id</code> is the name of the coin you want, <code>vs_currency</code> is the currency you want the price in, and <code>days</code> is how many days back from today you want.\n"
   ]
  },
  {
   "cell_type": "code",
   "execution_count": 8,
   "metadata": {},
   "outputs": [],
   "source": [
    "cg = CoinGeckoAPI()\n",
    "\n",
    "bitcoin_data = cg.get_coin_market_chart_by_id(id='bitcoin', vs_currency='usd', days=30)"
   ]
  },
  {
   "cell_type": "code",
   "execution_count": 9,
   "metadata": {},
   "outputs": [
    {
     "data": {
      "text/plain": [
       "dict"
      ]
     },
     "execution_count": 9,
     "metadata": {},
     "output_type": "execute_result"
    }
   ],
   "source": [
    "type(bitcoin_data)"
   ]
  },
  {
   "cell_type": "code",
   "execution_count": 10,
   "metadata": {},
   "outputs": [
    {
     "data": {
      "text/plain": [
       "dict_keys(['prices', 'market_caps', 'total_volumes'])"
      ]
     },
     "execution_count": 10,
     "metadata": {},
     "output_type": "execute_result"
    }
   ],
   "source": [
    "bitcoin_data.keys()"
   ]
  },
  {
   "cell_type": "markdown",
   "metadata": {},
   "source": [
    "The response we get is in the form of a JSON which includes the price, market caps, and total volumes along with timestamps for each observation. We are focused on the prices so we will select that data.\n"
   ]
  },
  {
   "cell_type": "code",
   "execution_count": 11,
   "metadata": {},
   "outputs": [
    {
     "data": {
      "text/plain": [
       "[[1627455695343, 39377.92807162509],\n",
       " [1627459274336, 39927.007254017924],\n",
       " [1627462925798, 39512.86456257924],\n",
       " [1627466425737, 39830.67723351484],\n",
       " [1627470163128, 40192.36235006664]]"
      ]
     },
     "execution_count": 11,
     "metadata": {},
     "output_type": "execute_result"
    }
   ],
   "source": [
    "bitcoin_price_data = bitcoin_data['prices']\n",
    "\n",
    "bitcoin_price_data[0:5]"
   ]
  },
  {
   "cell_type": "markdown",
   "metadata": {},
   "source": [
    "Finally lets turn this data into a Pandas DataFrame.\n"
   ]
  },
  {
   "cell_type": "code",
   "execution_count": 12,
   "metadata": {},
   "outputs": [],
   "source": [
    "data = pd.DataFrame(bitcoin_price_data, columns=['TimeStamp', 'Price'])"
   ]
  },
  {
   "cell_type": "code",
   "execution_count": 26,
   "metadata": {},
   "outputs": [
    {
     "data": {
      "text/html": [
       "<div>\n",
       "<style scoped>\n",
       "    .dataframe tbody tr th:only-of-type {\n",
       "        vertical-align: middle;\n",
       "    }\n",
       "\n",
       "    .dataframe tbody tr th {\n",
       "        vertical-align: top;\n",
       "    }\n",
       "\n",
       "    .dataframe thead th {\n",
       "        text-align: right;\n",
       "    }\n",
       "</style>\n",
       "<table border=\"1\" class=\"dataframe\">\n",
       "  <thead>\n",
       "    <tr style=\"text-align: right;\">\n",
       "      <th></th>\n",
       "      <th>TimeStamp</th>\n",
       "      <th>Price</th>\n",
       "    </tr>\n",
       "  </thead>\n",
       "  <tbody>\n",
       "    <tr>\n",
       "      <th>0</th>\n",
       "      <td>1627405262919</td>\n",
       "      <td>37691.221011</td>\n",
       "    </tr>\n",
       "    <tr>\n",
       "      <th>1</th>\n",
       "      <td>1627408890262</td>\n",
       "      <td>37834.076178</td>\n",
       "    </tr>\n",
       "    <tr>\n",
       "      <th>2</th>\n",
       "      <td>1627412429132</td>\n",
       "      <td>38001.269200</td>\n",
       "    </tr>\n",
       "    <tr>\n",
       "      <th>3</th>\n",
       "      <td>1627416061197</td>\n",
       "      <td>38056.914674</td>\n",
       "    </tr>\n",
       "    <tr>\n",
       "      <th>4</th>\n",
       "      <td>1627419784941</td>\n",
       "      <td>38078.878463</td>\n",
       "    </tr>\n",
       "  </tbody>\n",
       "</table>\n",
       "</div>"
      ],
      "text/plain": [
       "       TimeStamp         Price\n",
       "0  1627405262919  37691.221011\n",
       "1  1627408890262  37834.076178\n",
       "2  1627412429132  38001.269200\n",
       "3  1627416061197  38056.914674\n",
       "4  1627419784941  38078.878463"
      ]
     },
     "execution_count": 26,
     "metadata": {},
     "output_type": "execute_result"
    }
   ],
   "source": [
    "data.head()"
   ]
  },
  {
   "cell_type": "code",
   "execution_count": 28,
   "metadata": {},
   "outputs": [
    {
     "data": {
      "text/plain": [
       "0    1627405262919\n",
       "1    1627408890262\n",
       "2    1627412429132\n",
       "3    1627416061197\n",
       "4    1627419784941\n",
       "Name: TimeStamp, dtype: int64"
      ]
     },
     "execution_count": 28,
     "metadata": {},
     "output_type": "execute_result"
    }
   ],
   "source": [
    "data['TimeStamp'].head()"
   ]
  },
  {
   "cell_type": "code",
   "execution_count": null,
   "metadata": {},
   "outputs": [],
   "source": [
    "datetime.date.fromtimestamp(1627405262919/1000)\n",
    "# datetime is package\n",
    "# date is a method "
   ]
  },
  {
   "cell_type": "markdown",
   "metadata": {},
   "source": [
    "Now that we have the DataFrame we will convert the timestamp to datetime and save it as a column called <code>Date</code>. We will map our <code>unix_to_datetime</code> to each timestamp and convert it to a readable datetime.\n"
   ]
  },
  {
   "cell_type": "code",
   "execution_count": null,
   "metadata": {},
   "outputs": [],
   "source": [
    "# lambda is a anonymous function defined using the lambda keyword.\n",
    "# any number of arguments but can contain only a single expression, no return, like in def syntax"
   ]
  },
  {
   "cell_type": "code",
   "execution_count": 34,
   "metadata": {},
   "outputs": [],
   "source": [
    "square = lambda x: x*x"
   ]
  },
  {
   "cell_type": "code",
   "execution_count": 35,
   "metadata": {},
   "outputs": [
    {
     "name": "stdout",
     "output_type": "stream",
     "text": [
      "Using lambda 25\n"
     ]
    }
   ],
   "source": [
    "print(\"Using lambda\", square(5))"
   ]
  },
  {
   "cell_type": "code",
   "execution_count": 38,
   "metadata": {},
   "outputs": [],
   "source": [
    "def square_def(x):\n",
    "    return(x*x)"
   ]
  },
  {
   "cell_type": "code",
   "execution_count": 39,
   "metadata": {},
   "outputs": [
    {
     "name": "stdout",
     "output_type": "stream",
     "text": [
      "Using def: 25\n"
     ]
    }
   ],
   "source": [
    "print(\"Using def:\", square_def(5))"
   ]
  },
  {
   "cell_type": "code",
   "execution_count": 14,
   "metadata": {},
   "outputs": [],
   "source": [
    "data['date'] = data['TimeStamp'].apply(lambda d: datetime.date.fromtimestamp(d/1000.0))\n",
    "# apply is a method, where first input is a function "
   ]
  },
  {
   "cell_type": "code",
   "execution_count": 23,
   "metadata": {},
   "outputs": [
    {
     "data": {
      "text/plain": [
       "723"
      ]
     },
     "execution_count": 23,
     "metadata": {},
     "output_type": "execute_result"
    }
   ],
   "source": [
    "len(data)"
   ]
  },
  {
   "cell_type": "code",
   "execution_count": 24,
   "metadata": {},
   "outputs": [
    {
     "data": {
      "text/plain": [
       "31"
      ]
     },
     "execution_count": 24,
     "metadata": {},
     "output_type": "execute_result"
    }
   ],
   "source": [
    "len(data.groupby(data.date, as_index=False))"
   ]
  },
  {
   "cell_type": "code",
   "execution_count": 26,
   "metadata": {},
   "outputs": [
    {
     "data": {
      "text/html": [
       "<div>\n",
       "<style scoped>\n",
       "    .dataframe tbody tr th:only-of-type {\n",
       "        vertical-align: middle;\n",
       "    }\n",
       "\n",
       "    .dataframe tbody tr th {\n",
       "        vertical-align: top;\n",
       "    }\n",
       "\n",
       "    .dataframe thead th {\n",
       "        text-align: right;\n",
       "    }\n",
       "</style>\n",
       "<table border=\"1\" class=\"dataframe\">\n",
       "  <thead>\n",
       "    <tr style=\"text-align: right;\">\n",
       "      <th></th>\n",
       "      <th>TimeStamp</th>\n",
       "      <th>Price</th>\n",
       "      <th>date</th>\n",
       "    </tr>\n",
       "  </thead>\n",
       "  <tbody>\n",
       "    <tr>\n",
       "      <th>0</th>\n",
       "      <td>1627455695343</td>\n",
       "      <td>39377.928072</td>\n",
       "      <td>2021-07-28</td>\n",
       "    </tr>\n",
       "    <tr>\n",
       "      <th>1</th>\n",
       "      <td>1627459274336</td>\n",
       "      <td>39927.007254</td>\n",
       "      <td>2021-07-28</td>\n",
       "    </tr>\n",
       "    <tr>\n",
       "      <th>2</th>\n",
       "      <td>1627462925798</td>\n",
       "      <td>39512.864563</td>\n",
       "      <td>2021-07-28</td>\n",
       "    </tr>\n",
       "    <tr>\n",
       "      <th>3</th>\n",
       "      <td>1627466425737</td>\n",
       "      <td>39830.677234</td>\n",
       "      <td>2021-07-28</td>\n",
       "    </tr>\n",
       "    <tr>\n",
       "      <th>4</th>\n",
       "      <td>1627470163128</td>\n",
       "      <td>40192.362350</td>\n",
       "      <td>2021-07-28</td>\n",
       "    </tr>\n",
       "    <tr>\n",
       "      <th>...</th>\n",
       "      <td>...</td>\n",
       "      <td>...</td>\n",
       "      <td>...</td>\n",
       "    </tr>\n",
       "    <tr>\n",
       "      <th>715</th>\n",
       "      <td>1630022466812</td>\n",
       "      <td>47229.070651</td>\n",
       "      <td>2021-08-27</td>\n",
       "    </tr>\n",
       "    <tr>\n",
       "      <th>716</th>\n",
       "      <td>1630026017692</td>\n",
       "      <td>47004.534708</td>\n",
       "      <td>2021-08-27</td>\n",
       "    </tr>\n",
       "    <tr>\n",
       "      <th>717</th>\n",
       "      <td>1630029616032</td>\n",
       "      <td>47472.219574</td>\n",
       "      <td>2021-08-27</td>\n",
       "    </tr>\n",
       "    <tr>\n",
       "      <th>718</th>\n",
       "      <td>1630033266819</td>\n",
       "      <td>47322.012064</td>\n",
       "      <td>2021-08-27</td>\n",
       "    </tr>\n",
       "    <tr>\n",
       "      <th>719</th>\n",
       "      <td>1630036837174</td>\n",
       "      <td>46840.062989</td>\n",
       "      <td>2021-08-27</td>\n",
       "    </tr>\n",
       "  </tbody>\n",
       "</table>\n",
       "<p>155 rows × 3 columns</p>\n",
       "</div>"
      ],
      "text/plain": [
       "         TimeStamp         Price        date\n",
       "0    1627455695343  39377.928072  2021-07-28\n",
       "1    1627459274336  39927.007254  2021-07-28\n",
       "2    1627462925798  39512.864563  2021-07-28\n",
       "3    1627466425737  39830.677234  2021-07-28\n",
       "4    1627470163128  40192.362350  2021-07-28\n",
       "..             ...           ...         ...\n",
       "715  1630022466812  47229.070651  2021-08-27\n",
       "716  1630026017692  47004.534708  2021-08-27\n",
       "717  1630029616032  47472.219574  2021-08-27\n",
       "718  1630033266819  47322.012064  2021-08-27\n",
       "719  1630036837174  46840.062989  2021-08-27\n",
       "\n",
       "[155 rows x 3 columns]"
      ]
     },
     "execution_count": 26,
     "metadata": {},
     "output_type": "execute_result"
    }
   ],
   "source": [
    "data.groupby(data.date, as_index=False).head()"
   ]
  },
  {
   "cell_type": "code",
   "execution_count": 25,
   "metadata": {},
   "outputs": [
    {
     "data": {
      "text/plain": [
       "31"
      ]
     },
     "execution_count": 25,
     "metadata": {},
     "output_type": "execute_result"
    }
   ],
   "source": [
    "len(data.groupby(by = ['date']))\n",
    "# .agg aggregate by rows\n",
    "# numpy agg functions mean, median, prod, sum, std, var"
   ]
  },
  {
   "cell_type": "code",
   "execution_count": 28,
   "metadata": {},
   "outputs": [
    {
     "data": {
      "text/html": [
       "<div>\n",
       "<style scoped>\n",
       "    .dataframe tbody tr th:only-of-type {\n",
       "        vertical-align: middle;\n",
       "    }\n",
       "\n",
       "    .dataframe tbody tr th {\n",
       "        vertical-align: top;\n",
       "    }\n",
       "\n",
       "    .dataframe thead tr th {\n",
       "        text-align: left;\n",
       "    }\n",
       "\n",
       "    .dataframe thead tr:last-of-type th {\n",
       "        text-align: right;\n",
       "    }\n",
       "</style>\n",
       "<table border=\"1\" class=\"dataframe\">\n",
       "  <thead>\n",
       "    <tr>\n",
       "      <th></th>\n",
       "      <th colspan=\"4\" halign=\"left\">TimeStamp</th>\n",
       "      <th colspan=\"4\" halign=\"left\">Price</th>\n",
       "    </tr>\n",
       "    <tr>\n",
       "      <th></th>\n",
       "      <th>min</th>\n",
       "      <th>max</th>\n",
       "      <th>first</th>\n",
       "      <th>last</th>\n",
       "      <th>min</th>\n",
       "      <th>max</th>\n",
       "      <th>first</th>\n",
       "      <th>last</th>\n",
       "    </tr>\n",
       "    <tr>\n",
       "      <th>date</th>\n",
       "      <th></th>\n",
       "      <th></th>\n",
       "      <th></th>\n",
       "      <th></th>\n",
       "      <th></th>\n",
       "      <th></th>\n",
       "      <th></th>\n",
       "      <th></th>\n",
       "    </tr>\n",
       "  </thead>\n",
       "  <tbody>\n",
       "    <tr>\n",
       "      <th>2021-07-28</th>\n",
       "      <td>1627455695343</td>\n",
       "      <td>1627513298279</td>\n",
       "      <td>1627455695343</td>\n",
       "      <td>1627513298279</td>\n",
       "      <td>38457.399449</td>\n",
       "      <td>40840.142596</td>\n",
       "      <td>39377.928072</td>\n",
       "      <td>39752.003988</td>\n",
       "    </tr>\n",
       "    <tr>\n",
       "      <th>2021-07-29</th>\n",
       "      <td>1627516823553</td>\n",
       "      <td>1627599648897</td>\n",
       "      <td>1627516823553</td>\n",
       "      <td>1627599648897</td>\n",
       "      <td>39476.953676</td>\n",
       "      <td>40616.613873</td>\n",
       "      <td>40031.198244</td>\n",
       "      <td>39838.622125</td>\n",
       "    </tr>\n",
       "    <tr>\n",
       "      <th>2021-07-30</th>\n",
       "      <td>1627603285544</td>\n",
       "      <td>1627686035588</td>\n",
       "      <td>1627603285544</td>\n",
       "      <td>1627686035588</td>\n",
       "      <td>38681.764211</td>\n",
       "      <td>41780.304209</td>\n",
       "      <td>39977.756939</td>\n",
       "      <td>41314.594012</td>\n",
       "    </tr>\n",
       "    <tr>\n",
       "      <th>2021-07-31</th>\n",
       "      <td>1627689674746</td>\n",
       "      <td>1627772565245</td>\n",
       "      <td>1627689674746</td>\n",
       "      <td>1627772565245</td>\n",
       "      <td>41192.332176</td>\n",
       "      <td>41964.840673</td>\n",
       "      <td>41936.261479</td>\n",
       "      <td>41874.177040</td>\n",
       "    </tr>\n",
       "    <tr>\n",
       "      <th>2021-08-01</th>\n",
       "      <td>1627776151813</td>\n",
       "      <td>1627858909419</td>\n",
       "      <td>1627776151813</td>\n",
       "      <td>1627858909419</td>\n",
       "      <td>40302.129545</td>\n",
       "      <td>42628.499544</td>\n",
       "      <td>41699.536641</td>\n",
       "      <td>40302.129545</td>\n",
       "    </tr>\n",
       "    <tr>\n",
       "      <th>2021-08-02</th>\n",
       "      <td>1627862538542</td>\n",
       "      <td>1627945311783</td>\n",
       "      <td>1627862538542</td>\n",
       "      <td>1627945311783</td>\n",
       "      <td>38874.343392</td>\n",
       "      <td>40570.458060</td>\n",
       "      <td>39985.182123</td>\n",
       "      <td>39459.971477</td>\n",
       "    </tr>\n",
       "    <tr>\n",
       "      <th>2021-08-03</th>\n",
       "      <td>1627948905838</td>\n",
       "      <td>1628031736335</td>\n",
       "      <td>1627948905838</td>\n",
       "      <td>1628031736335</td>\n",
       "      <td>38082.362403</td>\n",
       "      <td>39759.769303</td>\n",
       "      <td>39278.766508</td>\n",
       "      <td>38406.356156</td>\n",
       "    </tr>\n",
       "    <tr>\n",
       "      <th>2021-08-04</th>\n",
       "      <td>1628035321344</td>\n",
       "      <td>1628118071816</td>\n",
       "      <td>1628035321344</td>\n",
       "      <td>1628118071816</td>\n",
       "      <td>37729.027675</td>\n",
       "      <td>39877.209001</td>\n",
       "      <td>38175.781923</td>\n",
       "      <td>39653.344554</td>\n",
       "    </tr>\n",
       "    <tr>\n",
       "      <th>2021-08-05</th>\n",
       "      <td>1628121605521</td>\n",
       "      <td>1628204525365</td>\n",
       "      <td>1628121605521</td>\n",
       "      <td>1628204525365</td>\n",
       "      <td>37595.746824</td>\n",
       "      <td>40952.350810</td>\n",
       "      <td>39756.280965</td>\n",
       "      <td>40927.234106</td>\n",
       "    </tr>\n",
       "    <tr>\n",
       "      <th>2021-08-06</th>\n",
       "      <td>1628208064631</td>\n",
       "      <td>1628290878645</td>\n",
       "      <td>1628208064631</td>\n",
       "      <td>1628290878645</td>\n",
       "      <td>39871.571561</td>\n",
       "      <td>43133.328488</td>\n",
       "      <td>40825.381940</td>\n",
       "      <td>42667.089957</td>\n",
       "    </tr>\n",
       "    <tr>\n",
       "      <th>2021-08-07</th>\n",
       "      <td>1628294425322</td>\n",
       "      <td>1628377312030</td>\n",
       "      <td>1628294425322</td>\n",
       "      <td>1628377312030</td>\n",
       "      <td>42813.247737</td>\n",
       "      <td>44114.342504</td>\n",
       "      <td>42813.247737</td>\n",
       "      <td>43979.139208</td>\n",
       "    </tr>\n",
       "    <tr>\n",
       "      <th>2021-08-08</th>\n",
       "      <td>1628380800890</td>\n",
       "      <td>1628463630736</td>\n",
       "      <td>1628380800890</td>\n",
       "      <td>1628463630736</td>\n",
       "      <td>43572.946706</td>\n",
       "      <td>45157.582576</td>\n",
       "      <td>44514.605515</td>\n",
       "      <td>44396.813230</td>\n",
       "    </tr>\n",
       "    <tr>\n",
       "      <th>2021-08-09</th>\n",
       "      <td>1628467250195</td>\n",
       "      <td>1628550106857</td>\n",
       "      <td>1628467250195</td>\n",
       "      <td>1628550106857</td>\n",
       "      <td>43054.692312</td>\n",
       "      <td>46433.425576</td>\n",
       "      <td>43753.217863</td>\n",
       "      <td>46207.829352</td>\n",
       "    </tr>\n",
       "    <tr>\n",
       "      <th>2021-08-10</th>\n",
       "      <td>1628553636759</td>\n",
       "      <td>1628636410933</td>\n",
       "      <td>1628553636759</td>\n",
       "      <td>1628636410933</td>\n",
       "      <td>44815.458641</td>\n",
       "      <td>46311.001899</td>\n",
       "      <td>46311.001899</td>\n",
       "      <td>45507.302998</td>\n",
       "    </tr>\n",
       "    <tr>\n",
       "      <th>2021-08-11</th>\n",
       "      <td>1628640116367</td>\n",
       "      <td>1628722894788</td>\n",
       "      <td>1628640116367</td>\n",
       "      <td>1628722894788</td>\n",
       "      <td>45297.280370</td>\n",
       "      <td>46585.940390</td>\n",
       "      <td>45628.136261</td>\n",
       "      <td>45715.175233</td>\n",
       "    </tr>\n",
       "    <tr>\n",
       "      <th>2021-08-12</th>\n",
       "      <td>1628726403190</td>\n",
       "      <td>1628809208280</td>\n",
       "      <td>1628726403190</td>\n",
       "      <td>1628809208280</td>\n",
       "      <td>43965.545956</td>\n",
       "      <td>46165.286517</td>\n",
       "      <td>45656.025273</td>\n",
       "      <td>43965.545956</td>\n",
       "    </tr>\n",
       "    <tr>\n",
       "      <th>2021-08-13</th>\n",
       "      <td>1628812909701</td>\n",
       "      <td>1628895838293</td>\n",
       "      <td>1628812909701</td>\n",
       "      <td>1628895838293</td>\n",
       "      <td>44495.209793</td>\n",
       "      <td>47582.841978</td>\n",
       "      <td>44495.209793</td>\n",
       "      <td>47582.841978</td>\n",
       "    </tr>\n",
       "    <tr>\n",
       "      <th>2021-08-14</th>\n",
       "      <td>1628899271226</td>\n",
       "      <td>1628982084291</td>\n",
       "      <td>1628899271226</td>\n",
       "      <td>1628982084291</td>\n",
       "      <td>46216.667599</td>\n",
       "      <td>47760.112089</td>\n",
       "      <td>47760.112089</td>\n",
       "      <td>46912.547473</td>\n",
       "    </tr>\n",
       "    <tr>\n",
       "      <th>2021-08-15</th>\n",
       "      <td>1628985634968</td>\n",
       "      <td>1629068547867</td>\n",
       "      <td>1628985634968</td>\n",
       "      <td>1629068547867</td>\n",
       "      <td>45756.972022</td>\n",
       "      <td>47258.271283</td>\n",
       "      <td>47088.853135</td>\n",
       "      <td>47207.157469</td>\n",
       "    </tr>\n",
       "    <tr>\n",
       "      <th>2021-08-16</th>\n",
       "      <td>1629072163775</td>\n",
       "      <td>1629154846718</td>\n",
       "      <td>1629072163775</td>\n",
       "      <td>1629154846718</td>\n",
       "      <td>46009.182126</td>\n",
       "      <td>47862.153467</td>\n",
       "      <td>47025.003230</td>\n",
       "      <td>46244.398243</td>\n",
       "    </tr>\n",
       "    <tr>\n",
       "      <th>2021-08-17</th>\n",
       "      <td>1629158450695</td>\n",
       "      <td>1629241251728</td>\n",
       "      <td>1629158450695</td>\n",
       "      <td>1629241251728</td>\n",
       "      <td>44894.867041</td>\n",
       "      <td>46970.338891</td>\n",
       "      <td>45999.283652</td>\n",
       "      <td>44937.305324</td>\n",
       "    </tr>\n",
       "    <tr>\n",
       "      <th>2021-08-18</th>\n",
       "      <td>1629244809946</td>\n",
       "      <td>1629327606998</td>\n",
       "      <td>1629244809946</td>\n",
       "      <td>1629327606998</td>\n",
       "      <td>44534.454854</td>\n",
       "      <td>45894.981968</td>\n",
       "      <td>44534.454854</td>\n",
       "      <td>44796.742260</td>\n",
       "    </tr>\n",
       "    <tr>\n",
       "      <th>2021-08-19</th>\n",
       "      <td>1629331301632</td>\n",
       "      <td>1629414050080</td>\n",
       "      <td>1629331301632</td>\n",
       "      <td>1629414050080</td>\n",
       "      <td>44213.367801</td>\n",
       "      <td>46741.306632</td>\n",
       "      <td>44790.945808</td>\n",
       "      <td>46560.561559</td>\n",
       "    </tr>\n",
       "    <tr>\n",
       "      <th>2021-08-20</th>\n",
       "      <td>1629417643364</td>\n",
       "      <td>1629500454036</td>\n",
       "      <td>1629417643364</td>\n",
       "      <td>1629500454036</td>\n",
       "      <td>46745.034623</td>\n",
       "      <td>49124.360559</td>\n",
       "      <td>46745.034623</td>\n",
       "      <td>49124.360559</td>\n",
       "    </tr>\n",
       "    <tr>\n",
       "      <th>2021-08-21</th>\n",
       "      <td>1629504052097</td>\n",
       "      <td>1629586857915</td>\n",
       "      <td>1629504052097</td>\n",
       "      <td>1629586857915</td>\n",
       "      <td>48572.974423</td>\n",
       "      <td>49658.887046</td>\n",
       "      <td>49195.878602</td>\n",
       "      <td>49364.850589</td>\n",
       "    </tr>\n",
       "    <tr>\n",
       "      <th>2021-08-22</th>\n",
       "      <td>1629590463260</td>\n",
       "      <td>1629673271547</td>\n",
       "      <td>1629590463260</td>\n",
       "      <td>1629673271547</td>\n",
       "      <td>48377.821512</td>\n",
       "      <td>49253.161690</td>\n",
       "      <td>48867.876579</td>\n",
       "      <td>49117.657045</td>\n",
       "    </tr>\n",
       "    <tr>\n",
       "      <th>2021-08-23</th>\n",
       "      <td>1629676830679</td>\n",
       "      <td>1629759679029</td>\n",
       "      <td>1629676830679</td>\n",
       "      <td>1629759679029</td>\n",
       "      <td>49237.272831</td>\n",
       "      <td>50311.818126</td>\n",
       "      <td>49237.272831</td>\n",
       "      <td>49621.937622</td>\n",
       "    </tr>\n",
       "    <tr>\n",
       "      <th>2021-08-24</th>\n",
       "      <td>1629763272901</td>\n",
       "      <td>1629846048796</td>\n",
       "      <td>1629763272901</td>\n",
       "      <td>1629846048796</td>\n",
       "      <td>48103.035449</td>\n",
       "      <td>49710.765146</td>\n",
       "      <td>49518.577488</td>\n",
       "      <td>48306.276831</td>\n",
       "    </tr>\n",
       "    <tr>\n",
       "      <th>2021-08-25</th>\n",
       "      <td>1629849662415</td>\n",
       "      <td>1629932434547</td>\n",
       "      <td>1629849662415</td>\n",
       "      <td>1629932434547</td>\n",
       "      <td>47250.111254</td>\n",
       "      <td>48995.854650</td>\n",
       "      <td>47804.617643</td>\n",
       "      <td>48876.827164</td>\n",
       "    </tr>\n",
       "    <tr>\n",
       "      <th>2021-08-26</th>\n",
       "      <td>1629936072162</td>\n",
       "      <td>1630018899955</td>\n",
       "      <td>1629936072162</td>\n",
       "      <td>1630018899955</td>\n",
       "      <td>46774.496830</td>\n",
       "      <td>49320.143212</td>\n",
       "      <td>48989.512084</td>\n",
       "      <td>47254.510913</td>\n",
       "    </tr>\n",
       "    <tr>\n",
       "      <th>2021-08-27</th>\n",
       "      <td>1630022466812</td>\n",
       "      <td>1630047585000</td>\n",
       "      <td>1630022466812</td>\n",
       "      <td>1630047585000</td>\n",
       "      <td>46840.062989</td>\n",
       "      <td>47472.219574</td>\n",
       "      <td>47229.070651</td>\n",
       "      <td>47163.120973</td>\n",
       "    </tr>\n",
       "  </tbody>\n",
       "</table>\n",
       "</div>"
      ],
      "text/plain": [
       "                TimeStamp                                               \\\n",
       "                      min            max          first           last   \n",
       "date                                                                     \n",
       "2021-07-28  1627455695343  1627513298279  1627455695343  1627513298279   \n",
       "2021-07-29  1627516823553  1627599648897  1627516823553  1627599648897   \n",
       "2021-07-30  1627603285544  1627686035588  1627603285544  1627686035588   \n",
       "2021-07-31  1627689674746  1627772565245  1627689674746  1627772565245   \n",
       "2021-08-01  1627776151813  1627858909419  1627776151813  1627858909419   \n",
       "2021-08-02  1627862538542  1627945311783  1627862538542  1627945311783   \n",
       "2021-08-03  1627948905838  1628031736335  1627948905838  1628031736335   \n",
       "2021-08-04  1628035321344  1628118071816  1628035321344  1628118071816   \n",
       "2021-08-05  1628121605521  1628204525365  1628121605521  1628204525365   \n",
       "2021-08-06  1628208064631  1628290878645  1628208064631  1628290878645   \n",
       "2021-08-07  1628294425322  1628377312030  1628294425322  1628377312030   \n",
       "2021-08-08  1628380800890  1628463630736  1628380800890  1628463630736   \n",
       "2021-08-09  1628467250195  1628550106857  1628467250195  1628550106857   \n",
       "2021-08-10  1628553636759  1628636410933  1628553636759  1628636410933   \n",
       "2021-08-11  1628640116367  1628722894788  1628640116367  1628722894788   \n",
       "2021-08-12  1628726403190  1628809208280  1628726403190  1628809208280   \n",
       "2021-08-13  1628812909701  1628895838293  1628812909701  1628895838293   \n",
       "2021-08-14  1628899271226  1628982084291  1628899271226  1628982084291   \n",
       "2021-08-15  1628985634968  1629068547867  1628985634968  1629068547867   \n",
       "2021-08-16  1629072163775  1629154846718  1629072163775  1629154846718   \n",
       "2021-08-17  1629158450695  1629241251728  1629158450695  1629241251728   \n",
       "2021-08-18  1629244809946  1629327606998  1629244809946  1629327606998   \n",
       "2021-08-19  1629331301632  1629414050080  1629331301632  1629414050080   \n",
       "2021-08-20  1629417643364  1629500454036  1629417643364  1629500454036   \n",
       "2021-08-21  1629504052097  1629586857915  1629504052097  1629586857915   \n",
       "2021-08-22  1629590463260  1629673271547  1629590463260  1629673271547   \n",
       "2021-08-23  1629676830679  1629759679029  1629676830679  1629759679029   \n",
       "2021-08-24  1629763272901  1629846048796  1629763272901  1629846048796   \n",
       "2021-08-25  1629849662415  1629932434547  1629849662415  1629932434547   \n",
       "2021-08-26  1629936072162  1630018899955  1629936072162  1630018899955   \n",
       "2021-08-27  1630022466812  1630047585000  1630022466812  1630047585000   \n",
       "\n",
       "                   Price                                            \n",
       "                     min           max         first          last  \n",
       "date                                                                \n",
       "2021-07-28  38457.399449  40840.142596  39377.928072  39752.003988  \n",
       "2021-07-29  39476.953676  40616.613873  40031.198244  39838.622125  \n",
       "2021-07-30  38681.764211  41780.304209  39977.756939  41314.594012  \n",
       "2021-07-31  41192.332176  41964.840673  41936.261479  41874.177040  \n",
       "2021-08-01  40302.129545  42628.499544  41699.536641  40302.129545  \n",
       "2021-08-02  38874.343392  40570.458060  39985.182123  39459.971477  \n",
       "2021-08-03  38082.362403  39759.769303  39278.766508  38406.356156  \n",
       "2021-08-04  37729.027675  39877.209001  38175.781923  39653.344554  \n",
       "2021-08-05  37595.746824  40952.350810  39756.280965  40927.234106  \n",
       "2021-08-06  39871.571561  43133.328488  40825.381940  42667.089957  \n",
       "2021-08-07  42813.247737  44114.342504  42813.247737  43979.139208  \n",
       "2021-08-08  43572.946706  45157.582576  44514.605515  44396.813230  \n",
       "2021-08-09  43054.692312  46433.425576  43753.217863  46207.829352  \n",
       "2021-08-10  44815.458641  46311.001899  46311.001899  45507.302998  \n",
       "2021-08-11  45297.280370  46585.940390  45628.136261  45715.175233  \n",
       "2021-08-12  43965.545956  46165.286517  45656.025273  43965.545956  \n",
       "2021-08-13  44495.209793  47582.841978  44495.209793  47582.841978  \n",
       "2021-08-14  46216.667599  47760.112089  47760.112089  46912.547473  \n",
       "2021-08-15  45756.972022  47258.271283  47088.853135  47207.157469  \n",
       "2021-08-16  46009.182126  47862.153467  47025.003230  46244.398243  \n",
       "2021-08-17  44894.867041  46970.338891  45999.283652  44937.305324  \n",
       "2021-08-18  44534.454854  45894.981968  44534.454854  44796.742260  \n",
       "2021-08-19  44213.367801  46741.306632  44790.945808  46560.561559  \n",
       "2021-08-20  46745.034623  49124.360559  46745.034623  49124.360559  \n",
       "2021-08-21  48572.974423  49658.887046  49195.878602  49364.850589  \n",
       "2021-08-22  48377.821512  49253.161690  48867.876579  49117.657045  \n",
       "2021-08-23  49237.272831  50311.818126  49237.272831  49621.937622  \n",
       "2021-08-24  48103.035449  49710.765146  49518.577488  48306.276831  \n",
       "2021-08-25  47250.111254  48995.854650  47804.617643  48876.827164  \n",
       "2021-08-26  46774.496830  49320.143212  48989.512084  47254.510913  \n",
       "2021-08-27  46840.062989  47472.219574  47229.070651  47163.120973  "
      ]
     },
     "execution_count": 28,
     "metadata": {},
     "output_type": "execute_result"
    }
   ],
   "source": [
    "data.groupby(by = 'date').agg(['min', 'max', 'first', 'last'])"
   ]
  },
  {
   "cell_type": "code",
   "execution_count": 29,
   "metadata": {},
   "outputs": [
    {
     "data": {
      "text/html": [
       "<div>\n",
       "<style scoped>\n",
       "    .dataframe tbody tr th:only-of-type {\n",
       "        vertical-align: middle;\n",
       "    }\n",
       "\n",
       "    .dataframe tbody tr th {\n",
       "        vertical-align: top;\n",
       "    }\n",
       "\n",
       "    .dataframe thead tr th {\n",
       "        text-align: left;\n",
       "    }\n",
       "\n",
       "    .dataframe thead tr:last-of-type th {\n",
       "        text-align: right;\n",
       "    }\n",
       "</style>\n",
       "<table border=\"1\" class=\"dataframe\">\n",
       "  <thead>\n",
       "    <tr>\n",
       "      <th></th>\n",
       "      <th colspan=\"4\" halign=\"left\">Price</th>\n",
       "    </tr>\n",
       "    <tr>\n",
       "      <th></th>\n",
       "      <th>min</th>\n",
       "      <th>max</th>\n",
       "      <th>first</th>\n",
       "      <th>last</th>\n",
       "    </tr>\n",
       "    <tr>\n",
       "      <th>date</th>\n",
       "      <th></th>\n",
       "      <th></th>\n",
       "      <th></th>\n",
       "      <th></th>\n",
       "    </tr>\n",
       "  </thead>\n",
       "  <tbody>\n",
       "    <tr>\n",
       "      <th>2021-07-28</th>\n",
       "      <td>38457.399449</td>\n",
       "      <td>40840.142596</td>\n",
       "      <td>39377.928072</td>\n",
       "      <td>39752.003988</td>\n",
       "    </tr>\n",
       "    <tr>\n",
       "      <th>2021-07-29</th>\n",
       "      <td>39476.953676</td>\n",
       "      <td>40616.613873</td>\n",
       "      <td>40031.198244</td>\n",
       "      <td>39838.622125</td>\n",
       "    </tr>\n",
       "    <tr>\n",
       "      <th>2021-07-30</th>\n",
       "      <td>38681.764211</td>\n",
       "      <td>41780.304209</td>\n",
       "      <td>39977.756939</td>\n",
       "      <td>41314.594012</td>\n",
       "    </tr>\n",
       "    <tr>\n",
       "      <th>2021-07-31</th>\n",
       "      <td>41192.332176</td>\n",
       "      <td>41964.840673</td>\n",
       "      <td>41936.261479</td>\n",
       "      <td>41874.177040</td>\n",
       "    </tr>\n",
       "    <tr>\n",
       "      <th>2021-08-01</th>\n",
       "      <td>40302.129545</td>\n",
       "      <td>42628.499544</td>\n",
       "      <td>41699.536641</td>\n",
       "      <td>40302.129545</td>\n",
       "    </tr>\n",
       "    <tr>\n",
       "      <th>2021-08-02</th>\n",
       "      <td>38874.343392</td>\n",
       "      <td>40570.458060</td>\n",
       "      <td>39985.182123</td>\n",
       "      <td>39459.971477</td>\n",
       "    </tr>\n",
       "    <tr>\n",
       "      <th>2021-08-03</th>\n",
       "      <td>38082.362403</td>\n",
       "      <td>39759.769303</td>\n",
       "      <td>39278.766508</td>\n",
       "      <td>38406.356156</td>\n",
       "    </tr>\n",
       "    <tr>\n",
       "      <th>2021-08-04</th>\n",
       "      <td>37729.027675</td>\n",
       "      <td>39877.209001</td>\n",
       "      <td>38175.781923</td>\n",
       "      <td>39653.344554</td>\n",
       "    </tr>\n",
       "    <tr>\n",
       "      <th>2021-08-05</th>\n",
       "      <td>37595.746824</td>\n",
       "      <td>40952.350810</td>\n",
       "      <td>39756.280965</td>\n",
       "      <td>40927.234106</td>\n",
       "    </tr>\n",
       "    <tr>\n",
       "      <th>2021-08-06</th>\n",
       "      <td>39871.571561</td>\n",
       "      <td>43133.328488</td>\n",
       "      <td>40825.381940</td>\n",
       "      <td>42667.089957</td>\n",
       "    </tr>\n",
       "    <tr>\n",
       "      <th>2021-08-07</th>\n",
       "      <td>42813.247737</td>\n",
       "      <td>44114.342504</td>\n",
       "      <td>42813.247737</td>\n",
       "      <td>43979.139208</td>\n",
       "    </tr>\n",
       "    <tr>\n",
       "      <th>2021-08-08</th>\n",
       "      <td>43572.946706</td>\n",
       "      <td>45157.582576</td>\n",
       "      <td>44514.605515</td>\n",
       "      <td>44396.813230</td>\n",
       "    </tr>\n",
       "    <tr>\n",
       "      <th>2021-08-09</th>\n",
       "      <td>43054.692312</td>\n",
       "      <td>46433.425576</td>\n",
       "      <td>43753.217863</td>\n",
       "      <td>46207.829352</td>\n",
       "    </tr>\n",
       "    <tr>\n",
       "      <th>2021-08-10</th>\n",
       "      <td>44815.458641</td>\n",
       "      <td>46311.001899</td>\n",
       "      <td>46311.001899</td>\n",
       "      <td>45507.302998</td>\n",
       "    </tr>\n",
       "    <tr>\n",
       "      <th>2021-08-11</th>\n",
       "      <td>45297.280370</td>\n",
       "      <td>46585.940390</td>\n",
       "      <td>45628.136261</td>\n",
       "      <td>45715.175233</td>\n",
       "    </tr>\n",
       "    <tr>\n",
       "      <th>2021-08-12</th>\n",
       "      <td>43965.545956</td>\n",
       "      <td>46165.286517</td>\n",
       "      <td>45656.025273</td>\n",
       "      <td>43965.545956</td>\n",
       "    </tr>\n",
       "    <tr>\n",
       "      <th>2021-08-13</th>\n",
       "      <td>44495.209793</td>\n",
       "      <td>47582.841978</td>\n",
       "      <td>44495.209793</td>\n",
       "      <td>47582.841978</td>\n",
       "    </tr>\n",
       "    <tr>\n",
       "      <th>2021-08-14</th>\n",
       "      <td>46216.667599</td>\n",
       "      <td>47760.112089</td>\n",
       "      <td>47760.112089</td>\n",
       "      <td>46912.547473</td>\n",
       "    </tr>\n",
       "    <tr>\n",
       "      <th>2021-08-15</th>\n",
       "      <td>45756.972022</td>\n",
       "      <td>47258.271283</td>\n",
       "      <td>47088.853135</td>\n",
       "      <td>47207.157469</td>\n",
       "    </tr>\n",
       "    <tr>\n",
       "      <th>2021-08-16</th>\n",
       "      <td>46009.182126</td>\n",
       "      <td>47862.153467</td>\n",
       "      <td>47025.003230</td>\n",
       "      <td>46244.398243</td>\n",
       "    </tr>\n",
       "    <tr>\n",
       "      <th>2021-08-17</th>\n",
       "      <td>44894.867041</td>\n",
       "      <td>46970.338891</td>\n",
       "      <td>45999.283652</td>\n",
       "      <td>44937.305324</td>\n",
       "    </tr>\n",
       "    <tr>\n",
       "      <th>2021-08-18</th>\n",
       "      <td>44534.454854</td>\n",
       "      <td>45894.981968</td>\n",
       "      <td>44534.454854</td>\n",
       "      <td>44796.742260</td>\n",
       "    </tr>\n",
       "    <tr>\n",
       "      <th>2021-08-19</th>\n",
       "      <td>44213.367801</td>\n",
       "      <td>46741.306632</td>\n",
       "      <td>44790.945808</td>\n",
       "      <td>46560.561559</td>\n",
       "    </tr>\n",
       "    <tr>\n",
       "      <th>2021-08-20</th>\n",
       "      <td>46745.034623</td>\n",
       "      <td>49124.360559</td>\n",
       "      <td>46745.034623</td>\n",
       "      <td>49124.360559</td>\n",
       "    </tr>\n",
       "    <tr>\n",
       "      <th>2021-08-21</th>\n",
       "      <td>48572.974423</td>\n",
       "      <td>49658.887046</td>\n",
       "      <td>49195.878602</td>\n",
       "      <td>49364.850589</td>\n",
       "    </tr>\n",
       "    <tr>\n",
       "      <th>2021-08-22</th>\n",
       "      <td>48377.821512</td>\n",
       "      <td>49253.161690</td>\n",
       "      <td>48867.876579</td>\n",
       "      <td>49117.657045</td>\n",
       "    </tr>\n",
       "    <tr>\n",
       "      <th>2021-08-23</th>\n",
       "      <td>49237.272831</td>\n",
       "      <td>50311.818126</td>\n",
       "      <td>49237.272831</td>\n",
       "      <td>49621.937622</td>\n",
       "    </tr>\n",
       "    <tr>\n",
       "      <th>2021-08-24</th>\n",
       "      <td>48103.035449</td>\n",
       "      <td>49710.765146</td>\n",
       "      <td>49518.577488</td>\n",
       "      <td>48306.276831</td>\n",
       "    </tr>\n",
       "    <tr>\n",
       "      <th>2021-08-25</th>\n",
       "      <td>47250.111254</td>\n",
       "      <td>48995.854650</td>\n",
       "      <td>47804.617643</td>\n",
       "      <td>48876.827164</td>\n",
       "    </tr>\n",
       "    <tr>\n",
       "      <th>2021-08-26</th>\n",
       "      <td>46774.496830</td>\n",
       "      <td>49320.143212</td>\n",
       "      <td>48989.512084</td>\n",
       "      <td>47254.510913</td>\n",
       "    </tr>\n",
       "    <tr>\n",
       "      <th>2021-08-27</th>\n",
       "      <td>46840.062989</td>\n",
       "      <td>47472.219574</td>\n",
       "      <td>47229.070651</td>\n",
       "      <td>47163.120973</td>\n",
       "    </tr>\n",
       "  </tbody>\n",
       "</table>\n",
       "</div>"
      ],
      "text/plain": [
       "                   Price                                          \n",
       "                     min           max         first          last\n",
       "date                                                              \n",
       "2021-07-28  38457.399449  40840.142596  39377.928072  39752.003988\n",
       "2021-07-29  39476.953676  40616.613873  40031.198244  39838.622125\n",
       "2021-07-30  38681.764211  41780.304209  39977.756939  41314.594012\n",
       "2021-07-31  41192.332176  41964.840673  41936.261479  41874.177040\n",
       "2021-08-01  40302.129545  42628.499544  41699.536641  40302.129545\n",
       "2021-08-02  38874.343392  40570.458060  39985.182123  39459.971477\n",
       "2021-08-03  38082.362403  39759.769303  39278.766508  38406.356156\n",
       "2021-08-04  37729.027675  39877.209001  38175.781923  39653.344554\n",
       "2021-08-05  37595.746824  40952.350810  39756.280965  40927.234106\n",
       "2021-08-06  39871.571561  43133.328488  40825.381940  42667.089957\n",
       "2021-08-07  42813.247737  44114.342504  42813.247737  43979.139208\n",
       "2021-08-08  43572.946706  45157.582576  44514.605515  44396.813230\n",
       "2021-08-09  43054.692312  46433.425576  43753.217863  46207.829352\n",
       "2021-08-10  44815.458641  46311.001899  46311.001899  45507.302998\n",
       "2021-08-11  45297.280370  46585.940390  45628.136261  45715.175233\n",
       "2021-08-12  43965.545956  46165.286517  45656.025273  43965.545956\n",
       "2021-08-13  44495.209793  47582.841978  44495.209793  47582.841978\n",
       "2021-08-14  46216.667599  47760.112089  47760.112089  46912.547473\n",
       "2021-08-15  45756.972022  47258.271283  47088.853135  47207.157469\n",
       "2021-08-16  46009.182126  47862.153467  47025.003230  46244.398243\n",
       "2021-08-17  44894.867041  46970.338891  45999.283652  44937.305324\n",
       "2021-08-18  44534.454854  45894.981968  44534.454854  44796.742260\n",
       "2021-08-19  44213.367801  46741.306632  44790.945808  46560.561559\n",
       "2021-08-20  46745.034623  49124.360559  46745.034623  49124.360559\n",
       "2021-08-21  48572.974423  49658.887046  49195.878602  49364.850589\n",
       "2021-08-22  48377.821512  49253.161690  48867.876579  49117.657045\n",
       "2021-08-23  49237.272831  50311.818126  49237.272831  49621.937622\n",
       "2021-08-24  48103.035449  49710.765146  49518.577488  48306.276831\n",
       "2021-08-25  47250.111254  48995.854650  47804.617643  48876.827164\n",
       "2021-08-26  46774.496830  49320.143212  48989.512084  47254.510913\n",
       "2021-08-27  46840.062989  47472.219574  47229.070651  47163.120973"
      ]
     },
     "execution_count": 29,
     "metadata": {},
     "output_type": "execute_result"
    }
   ],
   "source": [
    "data.groupby(by = 'date').agg({\"Price\": ['min', 'max', 'first', 'last']})"
   ]
  },
  {
   "cell_type": "markdown",
   "metadata": {},
   "source": [
    "Using this modified dataset we can now group by the <code>Date</code> and find the min, max, open, and close for the candlesticks.\n"
   ]
  },
  {
   "cell_type": "code",
   "execution_count": 30,
   "metadata": {},
   "outputs": [],
   "source": [
    "candlestick_data = data.groupby(data.date, as_index=False).agg({\"Price\": ['min', 'max', 'first', 'last']})"
   ]
  },
  {
   "cell_type": "code",
   "execution_count": 32,
   "metadata": {},
   "outputs": [
    {
     "data": {
      "text/plain": [
       "pandas.core.frame.DataFrame"
      ]
     },
     "execution_count": 32,
     "metadata": {},
     "output_type": "execute_result"
    }
   ],
   "source": [
    "type(candlestick_data['Price'])"
   ]
  },
  {
   "cell_type": "code",
   "execution_count": 33,
   "metadata": {},
   "outputs": [
    {
     "data": {
      "text/plain": [
       "pandas.core.frame.DataFrame"
      ]
     },
     "execution_count": 33,
     "metadata": {},
     "output_type": "execute_result"
    }
   ],
   "source": [
    "type(candlestick_data)"
   ]
  },
  {
   "cell_type": "markdown",
   "metadata": {},
   "source": [
    "Finally we are now ready to use plotly to create our Candlestick Chart.\n"
   ]
  },
  {
   "cell_type": "code",
   "execution_count": null,
   "metadata": {},
   "outputs": [],
   "source": [
    "fig = go.Figure(data=[go.Candlestick(x=candlestick_data['date'],\n",
    "                open=candlestick_data['Price']['first'], \n",
    "                high=candlestick_data['Price']['max'],\n",
    "                low=candlestick_data['Price']['min'], \n",
    "                close=candlestick_data['Price']['last'])\n",
    "                ])\n",
    "\n",
    "fig.update_layout(xaxis_rangeslider_visible=False)\n",
    "\n",
    "fig.show()"
   ]
  },
  {
   "cell_type": "markdown",
   "metadata": {},
   "source": [
    "## Authors:\n",
    "\n",
    "## Change Log\n",
    "\n",
    "| Date (YYYY-MM-DD) | Version | Changed By    | Change Description                 |\n",
    "| ----------------- | ------- | ------------- | ---------------------------------- |\n",
    "| 2020-11-23        | 3.0     | Azim Hirjani  | New API                            |\n",
    "| 2020-09-09        | 2.1     | Malika Singla | Spell Check                        |\n",
    "| 2020-08-26        | 2.0     | Lavanya       | Moved lab to course repo in GitLab |\n",
    "|                   |         |               |                                    |\n",
    "\n",
    "<hr/>\n",
    "\n",
    "## <h3 align=\"center\"> © IBM Corporation 2020. All rights reserved. <h3/>\n"
   ]
  },
  {
   "cell_type": "code",
   "execution_count": null,
   "metadata": {},
   "outputs": [],
   "source": []
  }
 ],
 "metadata": {
  "kernelspec": {
   "display_name": "Python",
   "language": "python",
   "name": "conda-env-python-py"
  },
  "language_info": {
   "codemirror_mode": {
    "name": "ipython",
    "version": 3
   },
   "file_extension": ".py",
   "mimetype": "text/x-python",
   "name": "python",
   "nbconvert_exporter": "python",
   "pygments_lexer": "ipython3",
   "version": "3.6.13"
  }
 },
 "nbformat": 4,
 "nbformat_minor": 4
}
